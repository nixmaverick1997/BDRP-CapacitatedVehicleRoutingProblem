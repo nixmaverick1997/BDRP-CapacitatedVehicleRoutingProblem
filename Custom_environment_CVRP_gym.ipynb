{
  "nbformat": 4,
  "nbformat_minor": 0,
  "metadata": {
    "colab": {
      "provenance": [],
      "authorship_tag": "ABX9TyMTW0IkRZwrR1bFqT1XImpP",
      "include_colab_link": true
    },
    "kernelspec": {
      "name": "python3",
      "display_name": "Python 3"
    },
    "language_info": {
      "name": "python"
    },
    "accelerator": "GPU",
    "gpuClass": "standard"
  },
  "cells": [
    {
      "cell_type": "markdown",
      "metadata": {
        "id": "view-in-github",
        "colab_type": "text"
      },
      "source": [
        "<a href=\"https://colab.research.google.com/github/nixmaverick1997/BDRP-CapacitatedVehicleRoutingProblem/blob/main/Custom_environment_CVRP_gym.ipynb\" target=\"_parent\"><img src=\"https://colab.research.google.com/assets/colab-badge.svg\" alt=\"Open In Colab\"/></a>"
      ]
    },
    {
      "cell_type": "code",
      "execution_count": 1,
      "metadata": {
        "id": "rfUPUEZF6iRR"
      },
      "outputs": [],
      "source": [
        "%%capture\n",
        "!pip install gym"
      ]
    },
    {
      "cell_type": "code",
      "source": [],
      "metadata": {
        "id": "DB38qkNj7A_b"
      },
      "execution_count": null,
      "outputs": []
    }
  ]
}
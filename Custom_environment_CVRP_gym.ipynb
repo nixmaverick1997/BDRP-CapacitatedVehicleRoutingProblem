{
  "nbformat": 4,
  "nbformat_minor": 0,
  "metadata": {
    "colab": {
      "provenance": [],
      "authorship_tag": "ABX9TyN3Ca1/W5KBhZ5cra+dYQ2T",
      "include_colab_link": true
    },
    "kernelspec": {
      "name": "python3",
      "display_name": "Python 3"
    },
    "language_info": {
      "name": "python"
    },
    "accelerator": "GPU",
    "gpuClass": "standard"
  },
  "cells": [
    {
      "cell_type": "markdown",
      "metadata": {
        "id": "view-in-github",
        "colab_type": "text"
      },
      "source": [
        "<a href=\"https://colab.research.google.com/github/nixmaverick1997/BDRP-CapacitatedVehicleRoutingProblem/blob/main/Custom_environment_CVRP_gym.ipynb\" target=\"_parent\"><img src=\"https://colab.research.google.com/assets/colab-badge.svg\" alt=\"Open In Colab\"/></a>"
      ]
    },
    {
      "cell_type": "code",
      "execution_count": 1,
      "metadata": {
        "id": "rfUPUEZF6iRR"
      },
      "outputs": [],
      "source": [
        "%%capture\n",
        "!pip install gym"
      ]
    },
    {
      "cell_type": "code",
      "source": [
        "import gym\n",
        "from gym import Env"
      ],
      "metadata": {
        "id": "DB38qkNj7A_b"
      },
      "execution_count": 2,
      "outputs": []
    },
    {
      "cell_type": "code",
      "source": [
        "class CVRP(Env):\n",
        "  def __init__(self):\n",
        "    pass\n",
        "  \n",
        "  def reset(self):\n",
        "    raise NotImplementedError\n",
        "\n",
        "  def set(self, action):\n",
        "    raise NotImplementedError\n",
        "\n",
        "  def render(self, mode=\"human\"):\n",
        "    pass\n",
        "\n",
        "  def close(self):\n",
        "    pass  "
      ],
      "metadata": {
        "id": "M-t-RGdV8H8Y"
      },
      "execution_count": null,
      "outputs": []
    }
  ]
}
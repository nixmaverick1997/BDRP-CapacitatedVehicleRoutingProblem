{
 "cells": [
  {
   "cell_type": "code",
   "execution_count": 1,
   "metadata": {},
   "outputs": [
    {
     "name": "stdout",
     "output_type": "stream",
     "text": [
      "Collecting lkh\n",
      "  Downloading lkh-1.1.1-py3-none-any.whl (5.9 kB)\n",
      "Collecting tsplib95\n",
      "  Downloading tsplib95-0.7.1-py2.py3-none-any.whl (25 kB)\n",
      "Collecting Deprecated~=1.2.9\n",
      "  Downloading Deprecated-1.2.13-py2.py3-none-any.whl (9.6 kB)\n",
      "Requirement already satisfied: networkx~=2.1 in c:\\users\\nixma\\anaconda3\\lib\\site-packages (from tsplib95->lkh) (2.6.3)\n",
      "Requirement already satisfied: Click>=6.0 in c:\\users\\nixma\\anaconda3\\lib\\site-packages (from tsplib95->lkh) (8.0.3)\n",
      "Collecting tabulate~=0.8.7\n",
      "  Downloading tabulate-0.8.10-py3-none-any.whl (29 kB)\n",
      "Requirement already satisfied: colorama in c:\\users\\nixma\\anaconda3\\lib\\site-packages (from Click>=6.0->tsplib95->lkh) (0.4.4)\n",
      "Requirement already satisfied: wrapt<2,>=1.10 in c:\\users\\nixma\\anaconda3\\lib\\site-packages (from Deprecated~=1.2.9->tsplib95->lkh) (1.12.1)\n",
      "Installing collected packages: tabulate, Deprecated, tsplib95, lkh\n",
      "  Attempting uninstall: tabulate\n",
      "    Found existing installation: tabulate 0.9.0\n",
      "    Uninstalling tabulate-0.9.0:\n",
      "      Successfully uninstalled tabulate-0.9.0\n",
      "Successfully installed Deprecated-1.2.13 lkh-1.1.1 tabulate-0.8.10 tsplib95-0.7.1\n"
     ]
    }
   ],
   "source": [
    "!pip install lkh"
   ]
  },
  {
   "cell_type": "code",
   "execution_count": 4,
   "metadata": {},
   "outputs": [],
   "source": [
    "import requests\n",
    "import lkh\n",
    "\n",
    "problem_str = requests.get('http://vrp.atd-lab.inf.puc-rio.br/media/com_vrp/instances/A/A-n32-k5.vrp').text\n",
    "problem = lkh.LKHProblem.parse(problem_str)\n",
    "\n",
    "solver_path = 'LKH-3'"
   ]
  },
  {
   "cell_type": "code",
   "execution_count": 5,
   "metadata": {},
   "outputs": [
    {
     "data": {
      "text/plain": [
       "[[30, 19, 9, 10, 23, 16, 11, 26, 6, 21],\n",
       " [27, 8, 14, 18, 20, 32, 22],\n",
       " [7, 4, 3, 24, 5, 12, 29, 15],\n",
       " [25, 28],\n",
       " [13, 2, 17, 31]]"
      ]
     },
     "execution_count": 5,
     "metadata": {},
     "output_type": "execute_result"
    }
   ],
   "source": [
    "lkh.solve(solver_path, problem=problem, max_trials=10000, runs=10)"
   ]
  },
  {
   "cell_type": "code",
   "execution_count": null,
   "metadata": {},
   "outputs": [],
   "source": []
  }
 ],
 "metadata": {
  "kernelspec": {
   "display_name": "Python 3.9.7 ('base')",
   "language": "python",
   "name": "python3"
  },
  "language_info": {
   "codemirror_mode": {
    "name": "ipython",
    "version": 3
   },
   "file_extension": ".py",
   "mimetype": "text/x-python",
   "name": "python",
   "nbconvert_exporter": "python",
   "pygments_lexer": "ipython3",
   "version": "3.9.7"
  },
  "orig_nbformat": 4,
  "vscode": {
   "interpreter": {
    "hash": "3431958335dd8e1045bbe6a102717ddb49dfb17092fc858c4f05a528b6df2a29"
   }
  }
 },
 "nbformat": 4,
 "nbformat_minor": 2
}
